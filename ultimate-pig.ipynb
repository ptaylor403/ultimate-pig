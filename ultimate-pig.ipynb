{
 "cells": [
  {
   "cell_type": "code",
   "execution_count": 4,
   "metadata": {
    "collapsed": false
   },
   "outputs": [],
   "source": [
    "%matplotlib inline\n",
    "import math\n",
    "import random\n",
    "import statistics\n",
    "import matplotlib.pyplot as plt\n",
    "\n",
    "\n",
    "def roll_die():\n",
    "    return random.randint(1, 6)\n",
    "        "
   ]
  },
  {
   "cell_type": "code",
   "execution_count": 5,
   "metadata": {
    "collapsed": true
   },
   "outputs": [],
   "source": [
    "class Player:\n",
    "    def __init__(self):\n",
    "        self.points = 0\n",
    "        self.rolls = 0\n",
    "\n",
    "    def start_over(self):\n",
    "        self.points = 0\n",
    "        self.rolls = 0\n",
    "\n",
    "    def is_roll_again(self):\n",
    "        return False\n",
    "\n",
    "    def play(self):\n",
    "        self.start_over()\n",
    "        while True:\n",
    "            roll = roll_die()\n",
    "            self.rolls += 1\n",
    "            if roll == 1:\n",
    "                break\n",
    "            else:\n",
    "                self.points += roll\n",
    "            if not self.is_roll_again():\n",
    "                break\n",
    "        return self.points\n"
   ]
  },
  {
   "cell_type": "code",
   "execution_count": 6,
   "metadata": {
    "collapsed": true
   },
   "outputs": [],
   "source": [
    "class PigSolitaire:\n",
    "    def __init__(self, player):\n",
    "        self.player = player\n",
    "    def play_solitaire(self, player):\n",
    "        players_points = 0\n",
    "        for _ in range(7):\n",
    "            players_points += player.play()\n",
    "        return players_points"
   ]
  },
  {
   "cell_type": "code",
   "execution_count": 7,
   "metadata": {
    "collapsed": true
   },
   "outputs": [],
   "source": [
    "class Dumb(Player):\n",
    "    pass\n",
    "\n",
    "class Cautious(Player):\n",
    "    def is_roll_again(self):\n",
    "        return self.rolls < 3\n",
    "\n",
    "class CareFree(Player):\n",
    "    def is_roll_agian(self):\n",
    "        return self.rolls < 7"
   ]
  },
  {
   "cell_type": "code",
   "execution_count": 11,
   "metadata": {
    "collapsed": false
   },
   "outputs": [
    {
     "name": "stdout",
     "output_type": "stream",
     "text": [
      "Cautious player:  63\n",
      "Dumb player:  23\n",
      "Carefree player:  20\n"
     ]
    }
   ],
   "source": [
    "cautious = Cautious()\n",
    "game = PigSolitaire(Cautious())\n",
    "print('Cautious player: ', game.play_solitaire(cautious))\n",
    "\n",
    "dumb = Dumb()\n",
    "game = PigSolitaire(Dumb())\n",
    "print('Dumb player: ', game.play_solitaire(dumb))\n",
    "\n",
    "carefree = CareFree()\n",
    "game = PigSolitaire(CareFree())\n",
    "print('Carefree player: ', game.play_solitaire(carefree))"
   ]
  },
  {
   "cell_type": "code",
   "execution_count": null,
   "metadata": {
    "collapsed": true
   },
   "outputs": [],
   "source": []
  },
  {
   "cell_type": "code",
   "execution_count": null,
   "metadata": {
    "collapsed": true
   },
   "outputs": [],
   "source": []
  }
 ],
 "metadata": {
  "kernelspec": {
   "display_name": "Python 3",
   "language": "python",
   "name": "python3"
  },
  "language_info": {
   "codemirror_mode": {
    "name": "ipython",
    "version": 3
   },
   "file_extension": ".py",
   "mimetype": "text/x-python",
   "name": "python",
   "nbconvert_exporter": "python",
   "pygments_lexer": "ipython3",
   "version": "3.5.1"
  }
 },
 "nbformat": 4,
 "nbformat_minor": 0
}
