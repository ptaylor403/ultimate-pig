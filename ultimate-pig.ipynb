{
 "cells": [
  {
   "cell_type": "code",
   "execution_count": 3,
   "metadata": {
    "collapsed": false
   },
   "outputs": [
    {
     "ename": "IndentationError",
     "evalue": "expected an indented block (<ipython-input-3-92633fe10ea9>, line 48)",
     "output_type": "error",
     "traceback": [
      "\u001b[0;36m  File \u001b[0;32m\"<ipython-input-3-92633fe10ea9>\"\u001b[0;36m, line \u001b[0;32m48\u001b[0m\n\u001b[0;31m    class RandomRollPlayer(Player):\u001b[0m\n\u001b[0m                                   ^\u001b[0m\n\u001b[0;31mIndentationError\u001b[0m\u001b[0;31m:\u001b[0m expected an indented block\n"
     ]
    }
   ],
   "source": [
    "import random\n",
    "\n",
    "class Player:\n",
    "    def __init__(self, name, limit = 1):\n",
    "        self.name = name\n",
    "        self.limit = limit\n",
    "        self.score = 0\n",
    "        \n",
    "#     def score(self, roll):\n",
    "#         return self.score += roll\n",
    "       \n",
    "    def roll(self):\n",
    "        pass\n",
    "    \n",
    "class Game:\n",
    "    def __init__(self, turn_max = 7):\n",
    "        self.turn_max = turn_max\n",
    "        self.turn_count = 0\n",
    "        \n",
    "    \n",
    "    def run_round():\n",
    "        if self.turn_count >= turn_max:\n",
    "            return self.round_over()\n",
    "        else: \n",
    "            self.turn_count += 1\n",
    "            self.get_rolls()\n",
    "            self.update_score(roll)\n",
    "        \n",
    "    def get_rolls(self, player):\n",
    "        while will_hold:\n",
    "            roll = random.randint(1,6)\n",
    "            self.update_score(roll)\n",
    "        \n",
    "    def will_hold(self):\n",
    "        pass\n",
    "        \n",
    "    \n",
    "    def update_score(self, roll):\n",
    "        pass\n",
    "    \n",
    "    def round_over(self):\n",
    "        print(\"You done!\")\n",
    "    \n",
    "    def play_again(self):\n",
    "        \n",
    "    \n",
    "    \n",
    "class RandomRollPlayer(Player):\n",
    "    def will_hold(self):\n",
    "        return random.choice([True, False])    \n",
    "\n",
    "    \n",
    "    \n",
    "class RandomLimitPlayer(Player):\n",
    "    def _init__(self):\n",
    "        super().__init__(limit = random.randint(5, 20))\n",
    "    \n",
    "def main():\n",
    "    \n",
    "    game = Game()\n",
    "    player1 = RandomRollPlayer('Gunther', 7)\n",
    "    player2 = RandomLimitPlayer('Barbie')\n",
    "    \n",
    "    while True:\n",
    "        \n",
    "        print(\"Player one's turn!\")\n",
    "        game.run_round()\n",
    "        \n",
    "        print(\"Player two's turn!\")\n",
    "        game.run_round()\n",
    "        \n",
    "        if not game.play_again:\n",
    "            break"
   ]
  },
  {
   "cell_type": "code",
   "execution_count": null,
   "metadata": {
    "collapsed": true
   },
   "outputs": [],
   "source": []
  }
 ],
 "metadata": {
  "kernelspec": {
   "display_name": "Python 3",
   "language": "python",
   "name": "python3"
  },
  "language_info": {
   "codemirror_mode": {
    "name": "ipython",
    "version": 3
   },
   "file_extension": ".py",
   "mimetype": "text/x-python",
   "name": "python",
   "nbconvert_exporter": "python",
   "pygments_lexer": "ipython3",
   "version": "3.5.1"
  }
 },
 "nbformat": 4,
 "nbformat_minor": 0
}
